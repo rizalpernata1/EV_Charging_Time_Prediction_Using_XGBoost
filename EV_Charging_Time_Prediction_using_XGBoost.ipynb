{
  "nbformat": 4,
  "nbformat_minor": 0,
  "metadata": {
    "colab": {
      "provenance": [],
      "authorship_tag": "ABX9TyMbVlw/zGRsjA9DSfm+75Su",
      "include_colab_link": true
    },
    "kernelspec": {
      "name": "python3",
      "display_name": "Python 3"
    },
    "language_info": {
      "name": "python"
    }
  },
  "cells": [
    {
      "cell_type": "markdown",
      "metadata": {
        "id": "view-in-github",
        "colab_type": "text"
      },
      "source": [
        "<a href=\"https://colab.research.google.com/github/rizalpernata1/EV_Charging_Time_Prediction_Using_XGBoost/blob/main/EV_Charging_Time_Prediction_using_XGBoost.ipynb\" target=\"_parent\"><img src=\"https://colab.research.google.com/assets/colab-badge.svg\" alt=\"Open In Colab\"/></a>"
      ]
    },
    {
      "cell_type": "markdown",
      "source": [
        "## Import"
      ],
      "metadata": {
        "id": "1pJ2vszuJ8Wy"
      }
    },
    {
      "cell_type": "code",
      "source": [
        "import pandas as pd\n",
        "from sklearn.model_selection import train_test_split\n",
        "from xgboost import XGBRegressor\n",
        "from sklearn.metrics import mean_absolute_error"
      ],
      "metadata": {
        "id": "qqjHcdANJ8oA"
      },
      "execution_count": null,
      "outputs": []
    },
    {
      "cell_type": "code",
      "source": [
        "df = pd.read_csv('station_data_dataverse.csv')"
      ],
      "metadata": {
        "id": "4ceR3Q-9Quo-"
      },
      "execution_count": null,
      "outputs": []
    },
    {
      "cell_type": "markdown",
      "source": [
        "## EDA"
      ],
      "metadata": {
        "id": "VMsuyqzZUF0N"
      }
    },
    {
      "cell_type": "code",
      "source": [
        "df.info()"
      ],
      "metadata": {
        "colab": {
          "base_uri": "https://localhost:8080/"
        },
        "id": "gzVL553oRFeA",
        "outputId": "5ab0ed2c-26f7-4638-a0ce-38f02c05ffd5"
      },
      "execution_count": null,
      "outputs": [
        {
          "output_type": "stream",
          "name": "stdout",
          "text": [
            "<class 'pandas.core.frame.DataFrame'>\n",
            "RangeIndex: 3395 entries, 0 to 3394\n",
            "Data columns (total 24 columns):\n",
            " #   Column          Non-Null Count  Dtype  \n",
            "---  ------          --------------  -----  \n",
            " 0   sessionId       3395 non-null   int64  \n",
            " 1   kwhTotal        3395 non-null   float64\n",
            " 2   dollars         3395 non-null   float64\n",
            " 3   created         3395 non-null   object \n",
            " 4   ended           3395 non-null   object \n",
            " 5   startTime       3395 non-null   int64  \n",
            " 6   endTime         3395 non-null   int64  \n",
            " 7   chargeTimeHrs   3395 non-null   float64\n",
            " 8   weekday         3395 non-null   object \n",
            " 9   platform        3395 non-null   object \n",
            " 10  distance        2330 non-null   float64\n",
            " 11  userId          3395 non-null   int64  \n",
            " 12  stationId       3395 non-null   int64  \n",
            " 13  locationId      3395 non-null   int64  \n",
            " 14  managerVehicle  3395 non-null   int64  \n",
            " 15  facilityType    3395 non-null   int64  \n",
            " 16  Mon             3395 non-null   int64  \n",
            " 17  Tues            3395 non-null   int64  \n",
            " 18  Wed             3395 non-null   int64  \n",
            " 19  Thurs           3395 non-null   int64  \n",
            " 20  Fri             3395 non-null   int64  \n",
            " 21  Sat             3395 non-null   int64  \n",
            " 22  Sun             3395 non-null   int64  \n",
            " 23  reportedZip     3395 non-null   int64  \n",
            "dtypes: float64(4), int64(16), object(4)\n",
            "memory usage: 636.7+ KB\n"
          ]
        }
      ]
    },
    {
      "cell_type": "code",
      "source": [
        "df.describe()"
      ],
      "metadata": {
        "colab": {
          "base_uri": "https://localhost:8080/",
          "height": 364
        },
        "id": "h7bGZ_yBTFpa",
        "outputId": "ac26959c-3dac-4e9f-eb04-0fe445f24fd5"
      },
      "execution_count": null,
      "outputs": [
        {
          "output_type": "execute_result",
          "data": {
            "text/plain": [
              "          sessionId     kwhTotal      dollars    startTime      endTime  \\\n",
              "count  3.395000e+03  3395.000000  3395.000000  3395.000000  3395.000000   \n",
              "mean   5.487001e+06     5.809629     0.118268    13.743446    16.455965   \n",
              "std    2.590657e+06     2.892727     0.492562     3.204370     3.406732   \n",
              "min    1.004821e+06     0.000000     0.000000     0.000000     0.000000   \n",
              "25%    3.234666e+06     4.350000     0.000000    11.000000    14.000000   \n",
              "50%    5.451498e+06     6.230000     0.000000    13.000000    16.000000   \n",
              "75%    7.746644e+06     6.830000     0.000000    17.000000    20.000000   \n",
              "max    9.998981e+06    23.680000     7.500000    23.000000    23.000000   \n",
              "\n",
              "       chargeTimeHrs     distance        userId      stationId     locationId  \\\n",
              "count    3395.000000  2330.000000  3.395000e+03    3395.000000    3395.000000   \n",
              "mean        2.841488    18.652378  5.742395e+07  576789.678056  629934.460677   \n",
              "std         1.507472    11.420571  2.674772e+07  257486.310402  255620.993849   \n",
              "min         0.012500     0.856911  1.042767e+07  129465.000000  125372.000000   \n",
              "25%         2.110278     5.135871  3.329548e+07  369001.000000  481066.000000   \n",
              "50%         2.808889    21.023826  4.924181e+07  549414.000000  503205.000000   \n",
              "75%         3.544167    27.285053  8.188052e+07  864630.000000  878393.000000   \n",
              "max        55.238056    43.059292  9.834581e+07  995505.000000  978130.000000   \n",
              "\n",
              "       managerVehicle  facilityType          Mon         Tues          Wed  \\\n",
              "count     3395.000000   3395.000000  3395.000000  3395.000000  3395.000000   \n",
              "mean         0.595582      2.428571     0.181443     0.187040     0.210015   \n",
              "std          0.490851      0.811204     0.385442     0.390001     0.407379   \n",
              "min          0.000000      1.000000     0.000000     0.000000     0.000000   \n",
              "25%          0.000000      2.000000     0.000000     0.000000     0.000000   \n",
              "50%          1.000000      3.000000     0.000000     0.000000     0.000000   \n",
              "75%          1.000000      3.000000     0.000000     0.000000     0.000000   \n",
              "max          1.000000      4.000000     1.000000     1.000000     1.000000   \n",
              "\n",
              "             Thurs          Fri          Sat          Sun  reportedZip  \n",
              "count  3395.000000  3395.000000  3395.000000  3395.000000  3395.000000  \n",
              "mean      0.216495     0.179676     0.018262     0.007069     0.703976  \n",
              "std       0.411916     0.383974     0.133918     0.083793     0.456569  \n",
              "min       0.000000     0.000000     0.000000     0.000000     0.000000  \n",
              "25%       0.000000     0.000000     0.000000     0.000000     0.000000  \n",
              "50%       0.000000     0.000000     0.000000     0.000000     1.000000  \n",
              "75%       0.000000     0.000000     0.000000     0.000000     1.000000  \n",
              "max       1.000000     1.000000     1.000000     1.000000     1.000000  "
            ],
            "text/html": [
              "\n",
              "  <div id=\"df-4d7541c2-a28d-4556-a607-ccecce6f4655\">\n",
              "    <div class=\"colab-df-container\">\n",
              "      <div>\n",
              "<style scoped>\n",
              "    .dataframe tbody tr th:only-of-type {\n",
              "        vertical-align: middle;\n",
              "    }\n",
              "\n",
              "    .dataframe tbody tr th {\n",
              "        vertical-align: top;\n",
              "    }\n",
              "\n",
              "    .dataframe thead th {\n",
              "        text-align: right;\n",
              "    }\n",
              "</style>\n",
              "<table border=\"1\" class=\"dataframe\">\n",
              "  <thead>\n",
              "    <tr style=\"text-align: right;\">\n",
              "      <th></th>\n",
              "      <th>sessionId</th>\n",
              "      <th>kwhTotal</th>\n",
              "      <th>dollars</th>\n",
              "      <th>startTime</th>\n",
              "      <th>endTime</th>\n",
              "      <th>chargeTimeHrs</th>\n",
              "      <th>distance</th>\n",
              "      <th>userId</th>\n",
              "      <th>stationId</th>\n",
              "      <th>locationId</th>\n",
              "      <th>managerVehicle</th>\n",
              "      <th>facilityType</th>\n",
              "      <th>Mon</th>\n",
              "      <th>Tues</th>\n",
              "      <th>Wed</th>\n",
              "      <th>Thurs</th>\n",
              "      <th>Fri</th>\n",
              "      <th>Sat</th>\n",
              "      <th>Sun</th>\n",
              "      <th>reportedZip</th>\n",
              "    </tr>\n",
              "  </thead>\n",
              "  <tbody>\n",
              "    <tr>\n",
              "      <th>count</th>\n",
              "      <td>3.395000e+03</td>\n",
              "      <td>3395.000000</td>\n",
              "      <td>3395.000000</td>\n",
              "      <td>3395.000000</td>\n",
              "      <td>3395.000000</td>\n",
              "      <td>3395.000000</td>\n",
              "      <td>2330.000000</td>\n",
              "      <td>3.395000e+03</td>\n",
              "      <td>3395.000000</td>\n",
              "      <td>3395.000000</td>\n",
              "      <td>3395.000000</td>\n",
              "      <td>3395.000000</td>\n",
              "      <td>3395.000000</td>\n",
              "      <td>3395.000000</td>\n",
              "      <td>3395.000000</td>\n",
              "      <td>3395.000000</td>\n",
              "      <td>3395.000000</td>\n",
              "      <td>3395.000000</td>\n",
              "      <td>3395.000000</td>\n",
              "      <td>3395.000000</td>\n",
              "    </tr>\n",
              "    <tr>\n",
              "      <th>mean</th>\n",
              "      <td>5.487001e+06</td>\n",
              "      <td>5.809629</td>\n",
              "      <td>0.118268</td>\n",
              "      <td>13.743446</td>\n",
              "      <td>16.455965</td>\n",
              "      <td>2.841488</td>\n",
              "      <td>18.652378</td>\n",
              "      <td>5.742395e+07</td>\n",
              "      <td>576789.678056</td>\n",
              "      <td>629934.460677</td>\n",
              "      <td>0.595582</td>\n",
              "      <td>2.428571</td>\n",
              "      <td>0.181443</td>\n",
              "      <td>0.187040</td>\n",
              "      <td>0.210015</td>\n",
              "      <td>0.216495</td>\n",
              "      <td>0.179676</td>\n",
              "      <td>0.018262</td>\n",
              "      <td>0.007069</td>\n",
              "      <td>0.703976</td>\n",
              "    </tr>\n",
              "    <tr>\n",
              "      <th>std</th>\n",
              "      <td>2.590657e+06</td>\n",
              "      <td>2.892727</td>\n",
              "      <td>0.492562</td>\n",
              "      <td>3.204370</td>\n",
              "      <td>3.406732</td>\n",
              "      <td>1.507472</td>\n",
              "      <td>11.420571</td>\n",
              "      <td>2.674772e+07</td>\n",
              "      <td>257486.310402</td>\n",
              "      <td>255620.993849</td>\n",
              "      <td>0.490851</td>\n",
              "      <td>0.811204</td>\n",
              "      <td>0.385442</td>\n",
              "      <td>0.390001</td>\n",
              "      <td>0.407379</td>\n",
              "      <td>0.411916</td>\n",
              "      <td>0.383974</td>\n",
              "      <td>0.133918</td>\n",
              "      <td>0.083793</td>\n",
              "      <td>0.456569</td>\n",
              "    </tr>\n",
              "    <tr>\n",
              "      <th>min</th>\n",
              "      <td>1.004821e+06</td>\n",
              "      <td>0.000000</td>\n",
              "      <td>0.000000</td>\n",
              "      <td>0.000000</td>\n",
              "      <td>0.000000</td>\n",
              "      <td>0.012500</td>\n",
              "      <td>0.856911</td>\n",
              "      <td>1.042767e+07</td>\n",
              "      <td>129465.000000</td>\n",
              "      <td>125372.000000</td>\n",
              "      <td>0.000000</td>\n",
              "      <td>1.000000</td>\n",
              "      <td>0.000000</td>\n",
              "      <td>0.000000</td>\n",
              "      <td>0.000000</td>\n",
              "      <td>0.000000</td>\n",
              "      <td>0.000000</td>\n",
              "      <td>0.000000</td>\n",
              "      <td>0.000000</td>\n",
              "      <td>0.000000</td>\n",
              "    </tr>\n",
              "    <tr>\n",
              "      <th>25%</th>\n",
              "      <td>3.234666e+06</td>\n",
              "      <td>4.350000</td>\n",
              "      <td>0.000000</td>\n",
              "      <td>11.000000</td>\n",
              "      <td>14.000000</td>\n",
              "      <td>2.110278</td>\n",
              "      <td>5.135871</td>\n",
              "      <td>3.329548e+07</td>\n",
              "      <td>369001.000000</td>\n",
              "      <td>481066.000000</td>\n",
              "      <td>0.000000</td>\n",
              "      <td>2.000000</td>\n",
              "      <td>0.000000</td>\n",
              "      <td>0.000000</td>\n",
              "      <td>0.000000</td>\n",
              "      <td>0.000000</td>\n",
              "      <td>0.000000</td>\n",
              "      <td>0.000000</td>\n",
              "      <td>0.000000</td>\n",
              "      <td>0.000000</td>\n",
              "    </tr>\n",
              "    <tr>\n",
              "      <th>50%</th>\n",
              "      <td>5.451498e+06</td>\n",
              "      <td>6.230000</td>\n",
              "      <td>0.000000</td>\n",
              "      <td>13.000000</td>\n",
              "      <td>16.000000</td>\n",
              "      <td>2.808889</td>\n",
              "      <td>21.023826</td>\n",
              "      <td>4.924181e+07</td>\n",
              "      <td>549414.000000</td>\n",
              "      <td>503205.000000</td>\n",
              "      <td>1.000000</td>\n",
              "      <td>3.000000</td>\n",
              "      <td>0.000000</td>\n",
              "      <td>0.000000</td>\n",
              "      <td>0.000000</td>\n",
              "      <td>0.000000</td>\n",
              "      <td>0.000000</td>\n",
              "      <td>0.000000</td>\n",
              "      <td>0.000000</td>\n",
              "      <td>1.000000</td>\n",
              "    </tr>\n",
              "    <tr>\n",
              "      <th>75%</th>\n",
              "      <td>7.746644e+06</td>\n",
              "      <td>6.830000</td>\n",
              "      <td>0.000000</td>\n",
              "      <td>17.000000</td>\n",
              "      <td>20.000000</td>\n",
              "      <td>3.544167</td>\n",
              "      <td>27.285053</td>\n",
              "      <td>8.188052e+07</td>\n",
              "      <td>864630.000000</td>\n",
              "      <td>878393.000000</td>\n",
              "      <td>1.000000</td>\n",
              "      <td>3.000000</td>\n",
              "      <td>0.000000</td>\n",
              "      <td>0.000000</td>\n",
              "      <td>0.000000</td>\n",
              "      <td>0.000000</td>\n",
              "      <td>0.000000</td>\n",
              "      <td>0.000000</td>\n",
              "      <td>0.000000</td>\n",
              "      <td>1.000000</td>\n",
              "    </tr>\n",
              "    <tr>\n",
              "      <th>max</th>\n",
              "      <td>9.998981e+06</td>\n",
              "      <td>23.680000</td>\n",
              "      <td>7.500000</td>\n",
              "      <td>23.000000</td>\n",
              "      <td>23.000000</td>\n",
              "      <td>55.238056</td>\n",
              "      <td>43.059292</td>\n",
              "      <td>9.834581e+07</td>\n",
              "      <td>995505.000000</td>\n",
              "      <td>978130.000000</td>\n",
              "      <td>1.000000</td>\n",
              "      <td>4.000000</td>\n",
              "      <td>1.000000</td>\n",
              "      <td>1.000000</td>\n",
              "      <td>1.000000</td>\n",
              "      <td>1.000000</td>\n",
              "      <td>1.000000</td>\n",
              "      <td>1.000000</td>\n",
              "      <td>1.000000</td>\n",
              "      <td>1.000000</td>\n",
              "    </tr>\n",
              "  </tbody>\n",
              "</table>\n",
              "</div>\n",
              "      <button class=\"colab-df-convert\" onclick=\"convertToInteractive('df-4d7541c2-a28d-4556-a607-ccecce6f4655')\"\n",
              "              title=\"Convert this dataframe to an interactive table.\"\n",
              "              style=\"display:none;\">\n",
              "        \n",
              "  <svg xmlns=\"http://www.w3.org/2000/svg\" height=\"24px\"viewBox=\"0 0 24 24\"\n",
              "       width=\"24px\">\n",
              "    <path d=\"M0 0h24v24H0V0z\" fill=\"none\"/>\n",
              "    <path d=\"M18.56 5.44l.94 2.06.94-2.06 2.06-.94-2.06-.94-.94-2.06-.94 2.06-2.06.94zm-11 1L8.5 8.5l.94-2.06 2.06-.94-2.06-.94L8.5 2.5l-.94 2.06-2.06.94zm10 10l.94 2.06.94-2.06 2.06-.94-2.06-.94-.94-2.06-.94 2.06-2.06.94z\"/><path d=\"M17.41 7.96l-1.37-1.37c-.4-.4-.92-.59-1.43-.59-.52 0-1.04.2-1.43.59L10.3 9.45l-7.72 7.72c-.78.78-.78 2.05 0 2.83L4 21.41c.39.39.9.59 1.41.59.51 0 1.02-.2 1.41-.59l7.78-7.78 2.81-2.81c.8-.78.8-2.07 0-2.86zM5.41 20L4 18.59l7.72-7.72 1.47 1.35L5.41 20z\"/>\n",
              "  </svg>\n",
              "      </button>\n",
              "      \n",
              "  <style>\n",
              "    .colab-df-container {\n",
              "      display:flex;\n",
              "      flex-wrap:wrap;\n",
              "      gap: 12px;\n",
              "    }\n",
              "\n",
              "    .colab-df-convert {\n",
              "      background-color: #E8F0FE;\n",
              "      border: none;\n",
              "      border-radius: 50%;\n",
              "      cursor: pointer;\n",
              "      display: none;\n",
              "      fill: #1967D2;\n",
              "      height: 32px;\n",
              "      padding: 0 0 0 0;\n",
              "      width: 32px;\n",
              "    }\n",
              "\n",
              "    .colab-df-convert:hover {\n",
              "      background-color: #E2EBFA;\n",
              "      box-shadow: 0px 1px 2px rgba(60, 64, 67, 0.3), 0px 1px 3px 1px rgba(60, 64, 67, 0.15);\n",
              "      fill: #174EA6;\n",
              "    }\n",
              "\n",
              "    [theme=dark] .colab-df-convert {\n",
              "      background-color: #3B4455;\n",
              "      fill: #D2E3FC;\n",
              "    }\n",
              "\n",
              "    [theme=dark] .colab-df-convert:hover {\n",
              "      background-color: #434B5C;\n",
              "      box-shadow: 0px 1px 3px 1px rgba(0, 0, 0, 0.15);\n",
              "      filter: drop-shadow(0px 1px 2px rgba(0, 0, 0, 0.3));\n",
              "      fill: #FFFFFF;\n",
              "    }\n",
              "  </style>\n",
              "\n",
              "      <script>\n",
              "        const buttonEl =\n",
              "          document.querySelector('#df-4d7541c2-a28d-4556-a607-ccecce6f4655 button.colab-df-convert');\n",
              "        buttonEl.style.display =\n",
              "          google.colab.kernel.accessAllowed ? 'block' : 'none';\n",
              "\n",
              "        async function convertToInteractive(key) {\n",
              "          const element = document.querySelector('#df-4d7541c2-a28d-4556-a607-ccecce6f4655');\n",
              "          const dataTable =\n",
              "            await google.colab.kernel.invokeFunction('convertToInteractive',\n",
              "                                                     [key], {});\n",
              "          if (!dataTable) return;\n",
              "\n",
              "          const docLinkHtml = 'Like what you see? Visit the ' +\n",
              "            '<a target=\"_blank\" href=https://colab.research.google.com/notebooks/data_table.ipynb>data table notebook</a>'\n",
              "            + ' to learn more about interactive tables.';\n",
              "          element.innerHTML = '';\n",
              "          dataTable['output_type'] = 'display_data';\n",
              "          await google.colab.output.renderOutput(dataTable, element);\n",
              "          const docLink = document.createElement('div');\n",
              "          docLink.innerHTML = docLinkHtml;\n",
              "          element.appendChild(docLink);\n",
              "        }\n",
              "      </script>\n",
              "    </div>\n",
              "  </div>\n",
              "  "
            ]
          },
          "metadata": {},
          "execution_count": 4
        }
      ]
    },
    {
      "cell_type": "code",
      "source": [
        "df.isna().sum()"
      ],
      "metadata": {
        "colab": {
          "base_uri": "https://localhost:8080/"
        },
        "id": "UToikkpHTNbm",
        "outputId": "332e109b-5165-466d-b4eb-7367e1b6eee2"
      },
      "execution_count": null,
      "outputs": [
        {
          "output_type": "execute_result",
          "data": {
            "text/plain": [
              "sessionId            0\n",
              "kwhTotal             0\n",
              "dollars              0\n",
              "created              0\n",
              "ended                0\n",
              "startTime            0\n",
              "endTime              0\n",
              "chargeTimeHrs        0\n",
              "weekday              0\n",
              "platform             0\n",
              "distance          1065\n",
              "userId               0\n",
              "stationId            0\n",
              "locationId           0\n",
              "managerVehicle       0\n",
              "facilityType         0\n",
              "Mon                  0\n",
              "Tues                 0\n",
              "Wed                  0\n",
              "Thurs                0\n",
              "Fri                  0\n",
              "Sat                  0\n",
              "Sun                  0\n",
              "reportedZip          0\n",
              "dtype: int64"
            ]
          },
          "metadata": {},
          "execution_count": 5
        }
      ]
    },
    {
      "cell_type": "markdown",
      "source": [
        "## Preprocessing"
      ],
      "metadata": {
        "id": "5pk0b5w9UN6c"
      }
    },
    {
      "cell_type": "code",
      "source": [
        "df = df.dropna()"
      ],
      "metadata": {
        "id": "mpa_dTFGTTCh"
      },
      "execution_count": null,
      "outputs": []
    },
    {
      "cell_type": "markdown",
      "source": [
        "## Choosing the features to be used"
      ],
      "metadata": {
        "id": "R-Qk7K0uUqJa"
      }
    },
    {
      "cell_type": "code",
      "source": [
        "selected_features = ['kwhTotal', 'Mon', 'Tues', 'Wed', 'Thurs', 'Fri', 'Sat', 'chargeTimeHrs']\n",
        "df = df[selected_features]"
      ],
      "metadata": {
        "id": "CxT9EAfdTXhV"
      },
      "execution_count": null,
      "outputs": []
    },
    {
      "cell_type": "markdown",
      "source": [
        "## Separating features and target"
      ],
      "metadata": {
        "id": "4SE-xwXiUu98"
      }
    },
    {
      "cell_type": "code",
      "source": [
        "X = df.drop('chargeTimeHrs', axis=1)\n",
        "y = df['chargeTimeHrs']"
      ],
      "metadata": {
        "id": "SN4lp0tQUuD1"
      },
      "execution_count": null,
      "outputs": []
    },
    {
      "cell_type": "markdown",
      "source": [
        "## Splitting the data into training and test sets"
      ],
      "metadata": {
        "id": "2ilF_C0QU5iv"
      }
    },
    {
      "cell_type": "code",
      "source": [
        "X_train, X_test, y_train, y_test = train_test_split(X, y, test_size=0.2, random_state=42)"
      ],
      "metadata": {
        "id": "Aomhr4VoU4u_"
      },
      "execution_count": null,
      "outputs": []
    },
    {
      "cell_type": "markdown",
      "source": [
        "## Train XGBoost Model"
      ],
      "metadata": {
        "id": "83-garukVGj0"
      }
    },
    {
      "cell_type": "code",
      "source": [
        "model = XGBRegressor(random_state=42)\n",
        "model.fit(X_train, y_train)"
      ],
      "metadata": {
        "colab": {
          "base_uri": "https://localhost:8080/",
          "height": 248
        },
        "id": "k6dJcKYrU9Mv",
        "outputId": "b886fead-b406-42ba-ade0-fb38343ba900"
      },
      "execution_count": null,
      "outputs": [
        {
          "output_type": "execute_result",
          "data": {
            "text/plain": [
              "XGBRegressor(base_score=None, booster=None, callbacks=None,\n",
              "             colsample_bylevel=None, colsample_bynode=None,\n",
              "             colsample_bytree=None, early_stopping_rounds=None,\n",
              "             enable_categorical=False, eval_metric=None, feature_types=None,\n",
              "             gamma=None, gpu_id=None, grow_policy=None, importance_type=None,\n",
              "             interaction_constraints=None, learning_rate=None, max_bin=None,\n",
              "             max_cat_threshold=None, max_cat_to_onehot=None,\n",
              "             max_delta_step=None, max_depth=None, max_leaves=None,\n",
              "             min_child_weight=None, missing=nan, monotone_constraints=None,\n",
              "             n_estimators=100, n_jobs=None, num_parallel_tree=None,\n",
              "             predictor=None, random_state=42, ...)"
            ],
            "text/html": [
              "<style>#sk-container-id-1 {color: black;background-color: white;}#sk-container-id-1 pre{padding: 0;}#sk-container-id-1 div.sk-toggleable {background-color: white;}#sk-container-id-1 label.sk-toggleable__label {cursor: pointer;display: block;width: 100%;margin-bottom: 0;padding: 0.3em;box-sizing: border-box;text-align: center;}#sk-container-id-1 label.sk-toggleable__label-arrow:before {content: \"▸\";float: left;margin-right: 0.25em;color: #696969;}#sk-container-id-1 label.sk-toggleable__label-arrow:hover:before {color: black;}#sk-container-id-1 div.sk-estimator:hover label.sk-toggleable__label-arrow:before {color: black;}#sk-container-id-1 div.sk-toggleable__content {max-height: 0;max-width: 0;overflow: hidden;text-align: left;background-color: #f0f8ff;}#sk-container-id-1 div.sk-toggleable__content pre {margin: 0.2em;color: black;border-radius: 0.25em;background-color: #f0f8ff;}#sk-container-id-1 input.sk-toggleable__control:checked~div.sk-toggleable__content {max-height: 200px;max-width: 100%;overflow: auto;}#sk-container-id-1 input.sk-toggleable__control:checked~label.sk-toggleable__label-arrow:before {content: \"▾\";}#sk-container-id-1 div.sk-estimator input.sk-toggleable__control:checked~label.sk-toggleable__label {background-color: #d4ebff;}#sk-container-id-1 div.sk-label input.sk-toggleable__control:checked~label.sk-toggleable__label {background-color: #d4ebff;}#sk-container-id-1 input.sk-hidden--visually {border: 0;clip: rect(1px 1px 1px 1px);clip: rect(1px, 1px, 1px, 1px);height: 1px;margin: -1px;overflow: hidden;padding: 0;position: absolute;width: 1px;}#sk-container-id-1 div.sk-estimator {font-family: monospace;background-color: #f0f8ff;border: 1px dotted black;border-radius: 0.25em;box-sizing: border-box;margin-bottom: 0.5em;}#sk-container-id-1 div.sk-estimator:hover {background-color: #d4ebff;}#sk-container-id-1 div.sk-parallel-item::after {content: \"\";width: 100%;border-bottom: 1px solid gray;flex-grow: 1;}#sk-container-id-1 div.sk-label:hover label.sk-toggleable__label {background-color: #d4ebff;}#sk-container-id-1 div.sk-serial::before {content: \"\";position: absolute;border-left: 1px solid gray;box-sizing: border-box;top: 0;bottom: 0;left: 50%;z-index: 0;}#sk-container-id-1 div.sk-serial {display: flex;flex-direction: column;align-items: center;background-color: white;padding-right: 0.2em;padding-left: 0.2em;position: relative;}#sk-container-id-1 div.sk-item {position: relative;z-index: 1;}#sk-container-id-1 div.sk-parallel {display: flex;align-items: stretch;justify-content: center;background-color: white;position: relative;}#sk-container-id-1 div.sk-item::before, #sk-container-id-1 div.sk-parallel-item::before {content: \"\";position: absolute;border-left: 1px solid gray;box-sizing: border-box;top: 0;bottom: 0;left: 50%;z-index: -1;}#sk-container-id-1 div.sk-parallel-item {display: flex;flex-direction: column;z-index: 1;position: relative;background-color: white;}#sk-container-id-1 div.sk-parallel-item:first-child::after {align-self: flex-end;width: 50%;}#sk-container-id-1 div.sk-parallel-item:last-child::after {align-self: flex-start;width: 50%;}#sk-container-id-1 div.sk-parallel-item:only-child::after {width: 0;}#sk-container-id-1 div.sk-dashed-wrapped {border: 1px dashed gray;margin: 0 0.4em 0.5em 0.4em;box-sizing: border-box;padding-bottom: 0.4em;background-color: white;}#sk-container-id-1 div.sk-label label {font-family: monospace;font-weight: bold;display: inline-block;line-height: 1.2em;}#sk-container-id-1 div.sk-label-container {text-align: center;}#sk-container-id-1 div.sk-container {/* jupyter's `normalize.less` sets `[hidden] { display: none; }` but bootstrap.min.css set `[hidden] { display: none !important; }` so we also need the `!important` here to be able to override the default hidden behavior on the sphinx rendered scikit-learn.org. See: https://github.com/scikit-learn/scikit-learn/issues/21755 */display: inline-block !important;position: relative;}#sk-container-id-1 div.sk-text-repr-fallback {display: none;}</style><div id=\"sk-container-id-1\" class=\"sk-top-container\"><div class=\"sk-text-repr-fallback\"><pre>XGBRegressor(base_score=None, booster=None, callbacks=None,\n",
              "             colsample_bylevel=None, colsample_bynode=None,\n",
              "             colsample_bytree=None, early_stopping_rounds=None,\n",
              "             enable_categorical=False, eval_metric=None, feature_types=None,\n",
              "             gamma=None, gpu_id=None, grow_policy=None, importance_type=None,\n",
              "             interaction_constraints=None, learning_rate=None, max_bin=None,\n",
              "             max_cat_threshold=None, max_cat_to_onehot=None,\n",
              "             max_delta_step=None, max_depth=None, max_leaves=None,\n",
              "             min_child_weight=None, missing=nan, monotone_constraints=None,\n",
              "             n_estimators=100, n_jobs=None, num_parallel_tree=None,\n",
              "             predictor=None, random_state=42, ...)</pre><b>In a Jupyter environment, please rerun this cell to show the HTML representation or trust the notebook. <br />On GitHub, the HTML representation is unable to render, please try loading this page with nbviewer.org.</b></div><div class=\"sk-container\" hidden><div class=\"sk-item\"><div class=\"sk-estimator sk-toggleable\"><input class=\"sk-toggleable__control sk-hidden--visually\" id=\"sk-estimator-id-1\" type=\"checkbox\" checked><label for=\"sk-estimator-id-1\" class=\"sk-toggleable__label sk-toggleable__label-arrow\">XGBRegressor</label><div class=\"sk-toggleable__content\"><pre>XGBRegressor(base_score=None, booster=None, callbacks=None,\n",
              "             colsample_bylevel=None, colsample_bynode=None,\n",
              "             colsample_bytree=None, early_stopping_rounds=None,\n",
              "             enable_categorical=False, eval_metric=None, feature_types=None,\n",
              "             gamma=None, gpu_id=None, grow_policy=None, importance_type=None,\n",
              "             interaction_constraints=None, learning_rate=None, max_bin=None,\n",
              "             max_cat_threshold=None, max_cat_to_onehot=None,\n",
              "             max_delta_step=None, max_depth=None, max_leaves=None,\n",
              "             min_child_weight=None, missing=nan, monotone_constraints=None,\n",
              "             n_estimators=100, n_jobs=None, num_parallel_tree=None,\n",
              "             predictor=None, random_state=42, ...)</pre></div></div></div></div></div>"
            ]
          },
          "metadata": {},
          "execution_count": 10
        }
      ]
    },
    {
      "cell_type": "markdown",
      "source": [
        "## Predicting charging time on the test data"
      ],
      "metadata": {
        "id": "Kj9bh2ILVV65"
      }
    },
    {
      "cell_type": "code",
      "source": [
        "y_pred = model.predict(X_test)"
      ],
      "metadata": {
        "id": "ZE3y3UKdVFse"
      },
      "execution_count": null,
      "outputs": []
    },
    {
      "cell_type": "markdown",
      "source": [
        "## Display the predicted and actual values"
      ],
      "metadata": {
        "id": "PCon1bVxiKaP"
      }
    },
    {
      "cell_type": "code",
      "source": [
        "results = pd.DataFrame({'Actual': y_test, 'Predicted': y_pred})\n",
        "print(results)"
      ],
      "metadata": {
        "id": "wNs7r5poiOOb",
        "outputId": "8fd58638-a2de-4827-954b-0b30a8db4cc1",
        "colab": {
          "base_uri": "https://localhost:8080/"
        }
      },
      "execution_count": null,
      "outputs": [
        {
          "output_type": "stream",
          "name": "stdout",
          "text": [
            "         Actual  Predicted\n",
            "1289   4.417222   2.571585\n",
            "2341   2.526111   3.544685\n",
            "2593   0.506111   1.119157\n",
            "1386   4.377778   3.262690\n",
            "2363   2.379722   3.424935\n",
            "...         ...        ...\n",
            "2030   3.203056   3.221154\n",
            "915    2.997222   3.064754\n",
            "1414   3.064167   2.317014\n",
            "2553  11.586944   3.645858\n",
            "1983   2.577778   2.735735\n",
            "\n",
            "[466 rows x 2 columns]\n"
          ]
        }
      ]
    },
    {
      "cell_type": "markdown",
      "source": [
        "## Calculating the mean absolute error"
      ],
      "metadata": {
        "id": "h8Kl0SqKVkZ8"
      }
    },
    {
      "cell_type": "code",
      "source": [
        "mae = mean_absolute_error(y_test, y_pred)\n",
        "print(\"Mean Absolute Error:\", mae)"
      ],
      "metadata": {
        "colab": {
          "base_uri": "https://localhost:8080/"
        },
        "id": "4KAMPxc9VVFI",
        "outputId": "a48180c7-c0a4-45c0-b3d4-c60690c02d1b"
      },
      "execution_count": null,
      "outputs": [
        {
          "output_type": "stream",
          "name": "stdout",
          "text": [
            "Mean Absolute Error: 0.8318828035757794\n"
          ]
        }
      ]
    },
    {
      "cell_type": "code",
      "source": [],
      "metadata": {
        "id": "CTENSw_RViTl"
      },
      "execution_count": null,
      "outputs": []
    }
  ]
}